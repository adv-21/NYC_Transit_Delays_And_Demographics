{
 "cells": [
  {
   "cell_type": "markdown",
   "id": "819d9a6b-914f-46f7-b92a-d5682cec4929",
   "metadata": {},
   "source": [
    "### Import Libraries and Data"
   ]
  },
  {
   "cell_type": "code",
   "execution_count": 2,
   "id": "2813a7cf-3f52-4b22-be63-f62f1afa50c5",
   "metadata": {},
   "outputs": [],
   "source": [
    "import pandas as pd\n",
    "import numpy as np\n",
    "import seaborn as sns\n",
    "import matplotlib.pyplot as plt\n",
    "import matplotlib\n",
    "import os"
   ]
  },
  {
   "cell_type": "code",
   "execution_count": 6,
   "id": "4b2647e3-6319-4ee0-a464-66caec872971",
   "metadata": {},
   "outputs": [],
   "source": [
    "df = pd.read_feather(r'C:\\Users\\Stugots\\Desktop\\Bootcamp Stuff\\Achievement 6 Solo Project\\Data\\Prepared Data\\rider_ACSdemos.feather')"
   ]
  },
  {
   "cell_type": "code",
   "execution_count": 8,
   "id": "d57d60de-81aa-4124-a8b3-1355336b9a8a",
   "metadata": {},
   "outputs": [],
   "source": [
    "df.to_csv(r'C:\\Users\\Stugots\\Desktop\\Bootcamp Stuff\\Achievement 6 Solo Project\\Data\\Prepared Data\\rider_ACSdemos.csv')"
   ]
  },
  {
   "cell_type": "code",
   "execution_count": null,
   "id": "3e0a1552-a1e8-4d61-8dbd-9854c383a012",
   "metadata": {},
   "outputs": [],
   "source": []
  }
 ],
 "metadata": {
  "kernelspec": {
   "display_name": "Python (quandl-env)",
   "language": "python",
   "name": "quandl-env"
  },
  "language_info": {
   "codemirror_mode": {
    "name": "ipython",
    "version": 3
   },
   "file_extension": ".py",
   "mimetype": "text/x-python",
   "name": "python",
   "nbconvert_exporter": "python",
   "pygments_lexer": "ipython3",
   "version": "3.10.18"
  }
 },
 "nbformat": 4,
 "nbformat_minor": 5
}
