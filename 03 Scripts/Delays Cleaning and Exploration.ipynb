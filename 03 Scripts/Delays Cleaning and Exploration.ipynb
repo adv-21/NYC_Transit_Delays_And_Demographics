{
 "cells": [
  {
   "cell_type": "markdown",
   "id": "10a5bece-096c-4773-86e1-0d8b8d6d55ab",
   "metadata": {},
   "source": [
    "# Import Libraries"
   ]
  },
  {
   "cell_type": "code",
   "execution_count": 3,
   "id": "bcec5f54-1b8e-41ad-a833-46ac93a56175",
   "metadata": {},
   "outputs": [],
   "source": [
    "import pandas as pd\n",
    "import numpy as np\n",
    "import os"
   ]
  },
  {
   "cell_type": "code",
   "execution_count": 4,
   "id": "8f254563-6c83-438b-bcc9-48625848cf1e",
   "metadata": {},
   "outputs": [],
   "source": [
    "#importing original data\n",
    "df = pd.read_csv(r\"C:\\Users\\Stugots\\Desktop\\Bootcamp Stuff\\Achievement 6 Solo Project\\Data\\Original Data\\MTA_Subway_Trains_Delayed__Beginning_2020_20250424.csv\" , index_col = False)"
   ]
  },
  {
   "cell_type": "code",
   "execution_count": 5,
   "id": "d7864b57-e6de-44f1-916e-68d1e8f1ca27",
   "metadata": {},
   "outputs": [
    {
     "data": {
      "text/html": [
       "<div>\n",
       "<style scoped>\n",
       "    .dataframe tbody tr th:only-of-type {\n",
       "        vertical-align: middle;\n",
       "    }\n",
       "\n",
       "    .dataframe tbody tr th {\n",
       "        vertical-align: top;\n",
       "    }\n",
       "\n",
       "    .dataframe thead th {\n",
       "        text-align: right;\n",
       "    }\n",
       "</style>\n",
       "<table border=\"1\" class=\"dataframe\">\n",
       "  <thead>\n",
       "    <tr style=\"text-align: right;\">\n",
       "      <th></th>\n",
       "      <th>month</th>\n",
       "      <th>division</th>\n",
       "      <th>line</th>\n",
       "      <th>day_type</th>\n",
       "      <th>reporting_category</th>\n",
       "      <th>subcategory</th>\n",
       "      <th>delays</th>\n",
       "    </tr>\n",
       "  </thead>\n",
       "  <tbody>\n",
       "    <tr>\n",
       "      <th>0</th>\n",
       "      <td>2024-12-01</td>\n",
       "      <td>A DIVISION</td>\n",
       "      <td>1</td>\n",
       "      <td>1</td>\n",
       "      <td>Crew Availability</td>\n",
       "      <td>Crew Availability</td>\n",
       "      <td>83</td>\n",
       "    </tr>\n",
       "    <tr>\n",
       "      <th>1</th>\n",
       "      <td>2024-12-01</td>\n",
       "      <td>A DIVISION</td>\n",
       "      <td>1</td>\n",
       "      <td>1</td>\n",
       "      <td>External Factors</td>\n",
       "      <td>External Debris on Roadbed</td>\n",
       "      <td>4</td>\n",
       "    </tr>\n",
       "    <tr>\n",
       "      <th>2</th>\n",
       "      <td>2024-12-01</td>\n",
       "      <td>A DIVISION</td>\n",
       "      <td>1</td>\n",
       "      <td>1</td>\n",
       "      <td>Infrastructure &amp; Equipment</td>\n",
       "      <td>Braking</td>\n",
       "      <td>37</td>\n",
       "    </tr>\n",
       "    <tr>\n",
       "      <th>3</th>\n",
       "      <td>2024-12-01</td>\n",
       "      <td>A DIVISION</td>\n",
       "      <td>1</td>\n",
       "      <td>1</td>\n",
       "      <td>Infrastructure &amp; Equipment</td>\n",
       "      <td>Door-Related</td>\n",
       "      <td>34</td>\n",
       "    </tr>\n",
       "    <tr>\n",
       "      <th>4</th>\n",
       "      <td>2024-12-01</td>\n",
       "      <td>A DIVISION</td>\n",
       "      <td>1</td>\n",
       "      <td>1</td>\n",
       "      <td>Infrastructure &amp; Equipment</td>\n",
       "      <td>Fire, Smoke, Debris</td>\n",
       "      <td>37</td>\n",
       "    </tr>\n",
       "  </tbody>\n",
       "</table>\n",
       "</div>"
      ],
      "text/plain": [
       "        month    division line  day_type          reporting_category  \\\n",
       "0  2024-12-01  A DIVISION    1         1           Crew Availability   \n",
       "1  2024-12-01  A DIVISION    1         1            External Factors   \n",
       "2  2024-12-01  A DIVISION    1         1  Infrastructure & Equipment   \n",
       "3  2024-12-01  A DIVISION    1         1  Infrastructure & Equipment   \n",
       "4  2024-12-01  A DIVISION    1         1  Infrastructure & Equipment   \n",
       "\n",
       "                  subcategory  delays  \n",
       "0           Crew Availability      83  \n",
       "1  External Debris on Roadbed       4  \n",
       "2                     Braking      37  \n",
       "3                Door-Related      34  \n",
       "4         Fire, Smoke, Debris      37  "
      ]
     },
     "execution_count": 5,
     "metadata": {},
     "output_type": "execute_result"
    }
   ],
   "source": [
    "df.head()"
   ]
  },
  {
   "cell_type": "code",
   "execution_count": 37,
   "id": "16f1ac13-1677-40ad-b7e7-9ff1a2af341e",
   "metadata": {},
   "outputs": [
    {
     "name": "stdout",
     "output_type": "stream",
     "text": [
      "<class 'pandas.core.frame.DataFrame'>\n",
      "RangeIndex: 40503 entries, 0 to 40502\n",
      "Data columns (total 8 columns):\n",
      " #   Column              Non-Null Count  Dtype         \n",
      "---  ------              --------------  -----         \n",
      " 0   month               40503 non-null  object        \n",
      " 1   division            40503 non-null  object        \n",
      " 2   line                40503 non-null  object        \n",
      " 3   day_type            40503 non-null  int64         \n",
      " 4   reporting_category  40503 non-null  object        \n",
      " 5   subcategory         38254 non-null  object        \n",
      " 6   delays              40503 non-null  int64         \n",
      " 7   datetime_month      40503 non-null  datetime64[ns]\n",
      "dtypes: datetime64[ns](1), int64(2), object(5)\n",
      "memory usage: 2.5+ MB\n"
     ]
    }
   ],
   "source": [
    "df.info()"
   ]
  },
  {
   "cell_type": "code",
   "execution_count": 6,
   "id": "4c8881d1-3cfb-4460-ad0e-610b60458f22",
   "metadata": {},
   "outputs": [
    {
     "data": {
      "text/html": [
       "<div>\n",
       "<style scoped>\n",
       "    .dataframe tbody tr th:only-of-type {\n",
       "        vertical-align: middle;\n",
       "    }\n",
       "\n",
       "    .dataframe tbody tr th {\n",
       "        vertical-align: top;\n",
       "    }\n",
       "\n",
       "    .dataframe thead th {\n",
       "        text-align: right;\n",
       "    }\n",
       "</style>\n",
       "<table border=\"1\" class=\"dataframe\">\n",
       "  <thead>\n",
       "    <tr style=\"text-align: right;\">\n",
       "      <th></th>\n",
       "      <th>day_type</th>\n",
       "      <th>delays</th>\n",
       "    </tr>\n",
       "  </thead>\n",
       "  <tbody>\n",
       "    <tr>\n",
       "      <th>count</th>\n",
       "      <td>40503.000000</td>\n",
       "      <td>40503.000000</td>\n",
       "    </tr>\n",
       "    <tr>\n",
       "      <th>mean</th>\n",
       "      <td>1.405575</td>\n",
       "      <td>51.792682</td>\n",
       "    </tr>\n",
       "    <tr>\n",
       "      <th>std</th>\n",
       "      <td>0.491009</td>\n",
       "      <td>90.603904</td>\n",
       "    </tr>\n",
       "    <tr>\n",
       "      <th>min</th>\n",
       "      <td>1.000000</td>\n",
       "      <td>1.000000</td>\n",
       "    </tr>\n",
       "    <tr>\n",
       "      <th>25%</th>\n",
       "      <td>1.000000</td>\n",
       "      <td>5.000000</td>\n",
       "    </tr>\n",
       "    <tr>\n",
       "      <th>50%</th>\n",
       "      <td>1.000000</td>\n",
       "      <td>18.000000</td>\n",
       "    </tr>\n",
       "    <tr>\n",
       "      <th>75%</th>\n",
       "      <td>2.000000</td>\n",
       "      <td>55.000000</td>\n",
       "    </tr>\n",
       "    <tr>\n",
       "      <th>max</th>\n",
       "      <td>2.000000</td>\n",
       "      <td>1220.000000</td>\n",
       "    </tr>\n",
       "  </tbody>\n",
       "</table>\n",
       "</div>"
      ],
      "text/plain": [
       "           day_type        delays\n",
       "count  40503.000000  40503.000000\n",
       "mean       1.405575     51.792682\n",
       "std        0.491009     90.603904\n",
       "min        1.000000      1.000000\n",
       "25%        1.000000      5.000000\n",
       "50%        1.000000     18.000000\n",
       "75%        2.000000     55.000000\n",
       "max        2.000000   1220.000000"
      ]
     },
     "execution_count": 6,
     "metadata": {},
     "output_type": "execute_result"
    }
   ],
   "source": [
    "df.describe()"
   ]
  },
  {
   "cell_type": "markdown",
   "id": "18f0a5b1-1fae-4a79-9bfb-06cfa4d3f5a4",
   "metadata": {},
   "source": [
    "# Checking For Missing Values"
   ]
  },
  {
   "cell_type": "code",
   "execution_count": 8,
   "id": "2248269c-c7a5-4b29-b531-9d3cb3b15e86",
   "metadata": {},
   "outputs": [
    {
     "data": {
      "text/plain": [
       "month\n",
       "2022-01-01    743\n",
       "2024-02-01    740\n",
       "2022-10-01    739\n",
       "2022-07-01    732\n",
       "2024-12-01    731\n",
       "2023-09-01    729\n",
       "2022-12-01    729\n",
       "2024-01-01    719\n",
       "2022-09-01    718\n",
       "2024-04-01    718\n",
       "2023-12-01    716\n",
       "2023-07-01    716\n",
       "2024-11-01    715\n",
       "2024-03-01    712\n",
       "2022-11-01    712\n",
       "2024-08-01    707\n",
       "2023-01-01    700\n",
       "2024-06-01    699\n",
       "2024-07-01    699\n",
       "2024-09-01    698\n",
       "2024-10-01    695\n",
       "2024-05-01    695\n",
       "2022-02-01    695\n",
       "2020-08-01    690\n",
       "2022-03-01    688\n",
       "2020-01-01    686\n",
       "2023-03-01    686\n",
       "2023-05-01    685\n",
       "2023-02-01    684\n",
       "2022-05-01    684\n",
       "2022-08-01    683\n",
       "2020-02-01    679\n",
       "2023-06-01    677\n",
       "2021-10-01    673\n",
       "2023-10-01    672\n",
       "2023-04-01    671\n",
       "2021-07-01    671\n",
       "2021-05-01    670\n",
       "2021-02-01    668\n",
       "2022-06-01    664\n",
       "2020-07-01    664\n",
       "2021-11-01    662\n",
       "2020-11-01    659\n",
       "2021-08-01    656\n",
       "2021-09-01    654\n",
       "2023-11-01    654\n",
       "2020-09-01    652\n",
       "2020-12-01    649\n",
       "2023-08-01    649\n",
       "2021-12-01    648\n",
       "2021-06-01    648\n",
       "2022-04-01    647\n",
       "2021-01-01    643\n",
       "2020-10-01    626\n",
       "2020-06-01    619\n",
       "2020-03-01    619\n",
       "2021-03-01    599\n",
       "2021-04-01    591\n",
       "2020-05-01    580\n",
       "2020-04-01    396\n",
       "Name: count, dtype: int64"
      ]
     },
     "execution_count": 8,
     "metadata": {},
     "output_type": "execute_result"
    }
   ],
   "source": [
    "df.month.value_counts()"
   ]
  },
  {
   "cell_type": "code",
   "execution_count": 9,
   "id": "4cacab11-6fe1-4e58-8d66-7b1de810a71a",
   "metadata": {},
   "outputs": [
    {
     "data": {
      "text/plain": [
       "division\n",
       "B DIVISION    26183\n",
       "A DIVISION    14320\n",
       "Name: count, dtype: int64"
      ]
     },
     "execution_count": 9,
     "metadata": {},
     "output_type": "execute_result"
    }
   ],
   "source": [
    "df.division.value_counts()"
   ]
  },
  {
   "cell_type": "code",
   "execution_count": 10,
   "id": "d8e59866-3957-4853-8113-4f75f30a2020",
   "metadata": {},
   "outputs": [
    {
     "data": {
      "text/plain": [
       "line\n",
       "N         2294\n",
       "A         2294\n",
       "2         2237\n",
       "D         2168\n",
       "Q         2154\n",
       "F         2154\n",
       "R         2115\n",
       "4         2089\n",
       "6         2017\n",
       "1         1997\n",
       "E         1986\n",
       "3         1963\n",
       "C         1954\n",
       "5         1921\n",
       "JZ        1773\n",
       "7         1772\n",
       "G         1676\n",
       "M         1601\n",
       "L         1572\n",
       "B         1121\n",
       "S Rock     946\n",
       "S Fkln     375\n",
       "GS         324\n",
       "Name: count, dtype: int64"
      ]
     },
     "execution_count": 10,
     "metadata": {},
     "output_type": "execute_result"
    }
   ],
   "source": [
    "df.line.value_counts()"
   ]
  },
  {
   "cell_type": "code",
   "execution_count": 11,
   "id": "1d33f410-1967-4540-a2d7-29714e7add1d",
   "metadata": {},
   "outputs": [
    {
     "data": {
      "text/plain": [
       "day_type\n",
       "1    24076\n",
       "2    16427\n",
       "Name: count, dtype: int64"
      ]
     },
     "execution_count": 11,
     "metadata": {},
     "output_type": "execute_result"
    }
   ],
   "source": [
    "df.day_type.value_counts()"
   ]
  },
  {
   "cell_type": "code",
   "execution_count": 12,
   "id": "067cfa4e-a3e7-48d9-b2cc-e7001552ef25",
   "metadata": {},
   "outputs": [
    {
     "data": {
      "text/plain": [
       "reporting_category\n",
       "Infrastructure & Equipment    19744\n",
       "Police & Medical               6864\n",
       "Planned ROW Work               6187\n",
       "External Factors               2833\n",
       "Crew Availability              2463\n",
       "Operating Conditions           2412\n",
       "Name: count, dtype: int64"
      ]
     },
     "execution_count": 12,
     "metadata": {},
     "output_type": "execute_result"
    }
   ],
   "source": [
    "df.reporting_category.value_counts()"
   ]
  },
  {
   "cell_type": "code",
   "execution_count": 13,
   "id": "50de0c00-ae57-4129-8f5e-db6478a21a82",
   "metadata": {},
   "outputs": [
    {
     "data": {
      "text/plain": [
       "subcategory\n",
       "Public Conduct, Crime, Police Response    2547\n",
       "Crew Availability                         2463\n",
       "Other - Sig                               2421\n",
       "Subways Maintenance                       2416\n",
       "Sick/Injured Customer                     2242\n",
       "Service Delivery                          2239\n",
       "Persons on Roadbed                        2075\n",
       "Other - CE                                1981\n",
       "Rail and Roadbed                          1976\n",
       "Door-Related                              1862\n",
       "Work Equipment                            1803\n",
       "Braking                                   1687\n",
       "Fire, Smoke, Debris                       1607\n",
       "Other Infrastructure                      1570\n",
       "Capital Work - Other Planned ROW          1523\n",
       "Propulsion                                1455\n",
       "Train Brake Activation - Cause Unknown    1326\n",
       "External Debris on Roadbed                1239\n",
       "Other Internal Disruptions                1216\n",
       "Inclement Weather                          890\n",
       "External Agency or Utility                 704\n",
       "Signal Modernization Capital Project       404\n",
       "Insufficient Supplement Schedule           346\n",
       "Other Operating Environment                159\n",
       "Other Planned ROW Work                      99\n",
       "Service Management                           4\n",
       "Name: count, dtype: int64"
      ]
     },
     "execution_count": 13,
     "metadata": {},
     "output_type": "execute_result"
    }
   ],
   "source": [
    "df.subcategory.value_counts()"
   ]
  },
  {
   "cell_type": "code",
   "execution_count": 14,
   "id": "1a61d98f-a482-4c0c-b4bd-7d5c33177da7",
   "metadata": {},
   "outputs": [
    {
     "data": {
      "text/plain": [
       "delays\n",
       "1      3018\n",
       "2      2418\n",
       "3      1801\n",
       "4      1653\n",
       "5      1401\n",
       "       ... \n",
       "511       1\n",
       "601       1\n",
       "508       1\n",
       "427       1\n",
       "853       1\n",
       "Name: count, Length: 692, dtype: int64"
      ]
     },
     "execution_count": 14,
     "metadata": {},
     "output_type": "execute_result"
    }
   ],
   "source": [
    "df.delays.value_counts()"
   ]
  },
  {
   "cell_type": "code",
   "execution_count": 15,
   "id": "9457ff83-f1f5-4e6d-bbbf-6adc5beb1a5c",
   "metadata": {},
   "outputs": [
    {
     "data": {
      "text/plain": [
       "False"
      ]
     },
     "execution_count": 15,
     "metadata": {},
     "output_type": "execute_result"
    }
   ],
   "source": [
    "df['delays'].isnull().any()"
   ]
  },
  {
   "cell_type": "code",
   "execution_count": 29,
   "id": "ea20290d-807f-4e4e-b19f-70c183487051",
   "metadata": {},
   "outputs": [],
   "source": [
    "df['datetime_month'] = pd.to_datetime(\n",
    "    df['month'])"
   ]
  },
  {
   "cell_type": "code",
   "execution_count": 31,
   "id": "81806b5a-5acd-491e-b9b1-b6e6be70f626",
   "metadata": {},
   "outputs": [
    {
     "data": {
      "text/html": [
       "<div>\n",
       "<style scoped>\n",
       "    .dataframe tbody tr th:only-of-type {\n",
       "        vertical-align: middle;\n",
       "    }\n",
       "\n",
       "    .dataframe tbody tr th {\n",
       "        vertical-align: top;\n",
       "    }\n",
       "\n",
       "    .dataframe thead th {\n",
       "        text-align: right;\n",
       "    }\n",
       "</style>\n",
       "<table border=\"1\" class=\"dataframe\">\n",
       "  <thead>\n",
       "    <tr style=\"text-align: right;\">\n",
       "      <th></th>\n",
       "      <th>month</th>\n",
       "      <th>division</th>\n",
       "      <th>line</th>\n",
       "      <th>day_type</th>\n",
       "      <th>reporting_category</th>\n",
       "      <th>subcategory</th>\n",
       "      <th>delays</th>\n",
       "      <th>datetime_month</th>\n",
       "    </tr>\n",
       "  </thead>\n",
       "  <tbody>\n",
       "    <tr>\n",
       "      <th>0</th>\n",
       "      <td>2024-12-01</td>\n",
       "      <td>A DIVISION</td>\n",
       "      <td>1</td>\n",
       "      <td>1</td>\n",
       "      <td>Crew Availability</td>\n",
       "      <td>Crew Availability</td>\n",
       "      <td>83</td>\n",
       "      <td>2024-12-01</td>\n",
       "    </tr>\n",
       "    <tr>\n",
       "      <th>1</th>\n",
       "      <td>2024-12-01</td>\n",
       "      <td>A DIVISION</td>\n",
       "      <td>1</td>\n",
       "      <td>1</td>\n",
       "      <td>External Factors</td>\n",
       "      <td>External Debris on Roadbed</td>\n",
       "      <td>4</td>\n",
       "      <td>2024-12-01</td>\n",
       "    </tr>\n",
       "    <tr>\n",
       "      <th>2</th>\n",
       "      <td>2024-12-01</td>\n",
       "      <td>A DIVISION</td>\n",
       "      <td>1</td>\n",
       "      <td>1</td>\n",
       "      <td>Infrastructure &amp; Equipment</td>\n",
       "      <td>Braking</td>\n",
       "      <td>37</td>\n",
       "      <td>2024-12-01</td>\n",
       "    </tr>\n",
       "    <tr>\n",
       "      <th>3</th>\n",
       "      <td>2024-12-01</td>\n",
       "      <td>A DIVISION</td>\n",
       "      <td>1</td>\n",
       "      <td>1</td>\n",
       "      <td>Infrastructure &amp; Equipment</td>\n",
       "      <td>Door-Related</td>\n",
       "      <td>34</td>\n",
       "      <td>2024-12-01</td>\n",
       "    </tr>\n",
       "    <tr>\n",
       "      <th>4</th>\n",
       "      <td>2024-12-01</td>\n",
       "      <td>A DIVISION</td>\n",
       "      <td>1</td>\n",
       "      <td>1</td>\n",
       "      <td>Infrastructure &amp; Equipment</td>\n",
       "      <td>Fire, Smoke, Debris</td>\n",
       "      <td>37</td>\n",
       "      <td>2024-12-01</td>\n",
       "    </tr>\n",
       "  </tbody>\n",
       "</table>\n",
       "</div>"
      ],
      "text/plain": [
       "        month    division line  day_type          reporting_category  \\\n",
       "0  2024-12-01  A DIVISION    1         1           Crew Availability   \n",
       "1  2024-12-01  A DIVISION    1         1            External Factors   \n",
       "2  2024-12-01  A DIVISION    1         1  Infrastructure & Equipment   \n",
       "3  2024-12-01  A DIVISION    1         1  Infrastructure & Equipment   \n",
       "4  2024-12-01  A DIVISION    1         1  Infrastructure & Equipment   \n",
       "\n",
       "                  subcategory  delays datetime_month  \n",
       "0           Crew Availability      83     2024-12-01  \n",
       "1  External Debris on Roadbed       4     2024-12-01  \n",
       "2                     Braking      37     2024-12-01  \n",
       "3                Door-Related      34     2024-12-01  \n",
       "4         Fire, Smoke, Debris      37     2024-12-01  "
      ]
     },
     "execution_count": 31,
     "metadata": {},
     "output_type": "execute_result"
    }
   ],
   "source": [
    "df.head()"
   ]
  },
  {
   "cell_type": "code",
   "execution_count": 33,
   "id": "dc75af81-5b45-46f1-a083-b8e9a79064d4",
   "metadata": {},
   "outputs": [],
   "source": [
    "#exporting new dataset\n",
    "df.to_pickle(r'C:\\Users\\Stugots\\Desktop\\Bootcamp Stuff\\Achievement 6 Solo Project\\Data\\Prepared Data\\trains delayed.pkl')"
   ]
  },
  {
   "cell_type": "code",
   "execution_count": null,
   "id": "03943d36-5fad-43c8-bb4b-5b3ba5ff3429",
   "metadata": {},
   "outputs": [],
   "source": []
  }
 ],
 "metadata": {
  "kernelspec": {
   "display_name": "Python [conda env:base] *",
   "language": "python",
   "name": "conda-base-py"
  },
  "language_info": {
   "codemirror_mode": {
    "name": "ipython",
    "version": 3
   },
   "file_extension": ".py",
   "mimetype": "text/x-python",
   "name": "python",
   "nbconvert_exporter": "python",
   "pygments_lexer": "ipython3",
   "version": "3.12.7"
  }
 },
 "nbformat": 4,
 "nbformat_minor": 5
}
