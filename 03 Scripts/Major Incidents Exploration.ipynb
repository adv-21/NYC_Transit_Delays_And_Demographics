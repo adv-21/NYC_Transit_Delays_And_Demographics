{
 "cells": [
  {
   "cell_type": "markdown",
   "id": "8e56e885-fb14-4d44-8816-fc64a1c3f3f4",
   "metadata": {},
   "source": [
    "# Importing Libraries"
   ]
  },
  {
   "cell_type": "code",
   "execution_count": 3,
   "id": "c6a2a840-8898-4743-bcbb-94b884ae4679",
   "metadata": {},
   "outputs": [],
   "source": [
    "import pandas as pd\n",
    "import numpy as np\n",
    "import os "
   ]
  },
  {
   "cell_type": "code",
   "execution_count": 4,
   "id": "896022b6-ad17-4964-960d-e9fc88285016",
   "metadata": {},
   "outputs": [],
   "source": [
    "# importing original data set \n",
    "df = pd.read_csv (r'C:\\Users\\Stugots\\Desktop\\Bootcamp Stuff\\Achievement 6 Solo Project\\Data\\Original Data\\MTA_Subway_Major_Incidents.csv' , index_col = False)"
   ]
  },
  {
   "cell_type": "code",
   "execution_count": 5,
   "id": "d0bb96fb-b632-46f5-8d51-70cd1fedcec8",
   "metadata": {},
   "outputs": [
    {
     "data": {
      "text/html": [
       "<div>\n",
       "<style scoped>\n",
       "    .dataframe tbody tr th:only-of-type {\n",
       "        vertical-align: middle;\n",
       "    }\n",
       "\n",
       "    .dataframe tbody tr th {\n",
       "        vertical-align: top;\n",
       "    }\n",
       "\n",
       "    .dataframe thead th {\n",
       "        text-align: right;\n",
       "    }\n",
       "</style>\n",
       "<table border=\"1\" class=\"dataframe\">\n",
       "  <thead>\n",
       "    <tr style=\"text-align: right;\">\n",
       "      <th></th>\n",
       "      <th>month</th>\n",
       "      <th>division</th>\n",
       "      <th>line</th>\n",
       "      <th>day_type</th>\n",
       "      <th>category</th>\n",
       "      <th>count</th>\n",
       "    </tr>\n",
       "  </thead>\n",
       "  <tbody>\n",
       "    <tr>\n",
       "      <th>0</th>\n",
       "      <td>12/1/2024</td>\n",
       "      <td>A DIVISION</td>\n",
       "      <td>1</td>\n",
       "      <td>1</td>\n",
       "      <td>Other</td>\n",
       "      <td>1</td>\n",
       "    </tr>\n",
       "    <tr>\n",
       "      <th>1</th>\n",
       "      <td>12/1/2024</td>\n",
       "      <td>A DIVISION</td>\n",
       "      <td>1</td>\n",
       "      <td>1</td>\n",
       "      <td>Persons on Trackbed/Police/Medical</td>\n",
       "      <td>1</td>\n",
       "    </tr>\n",
       "    <tr>\n",
       "      <th>2</th>\n",
       "      <td>12/1/2024</td>\n",
       "      <td>A DIVISION</td>\n",
       "      <td>1</td>\n",
       "      <td>1</td>\n",
       "      <td>Signals</td>\n",
       "      <td>2</td>\n",
       "    </tr>\n",
       "    <tr>\n",
       "      <th>3</th>\n",
       "      <td>12/1/2024</td>\n",
       "      <td>A DIVISION</td>\n",
       "      <td>2</td>\n",
       "      <td>1</td>\n",
       "      <td>Subway Car</td>\n",
       "      <td>1</td>\n",
       "    </tr>\n",
       "    <tr>\n",
       "      <th>4</th>\n",
       "      <td>12/1/2024</td>\n",
       "      <td>A DIVISION</td>\n",
       "      <td>2</td>\n",
       "      <td>1</td>\n",
       "      <td>Signals</td>\n",
       "      <td>3</td>\n",
       "    </tr>\n",
       "  </tbody>\n",
       "</table>\n",
       "</div>"
      ],
      "text/plain": [
       "       month    division line  day_type                            category  \\\n",
       "0  12/1/2024  A DIVISION    1         1                               Other   \n",
       "1  12/1/2024  A DIVISION    1         1  Persons on Trackbed/Police/Medical   \n",
       "2  12/1/2024  A DIVISION    1         1                             Signals   \n",
       "3  12/1/2024  A DIVISION    2         1                          Subway Car   \n",
       "4  12/1/2024  A DIVISION    2         1                             Signals   \n",
       "\n",
       "   count  \n",
       "0      1  \n",
       "1      1  \n",
       "2      2  \n",
       "3      1  \n",
       "4      3  "
      ]
     },
     "execution_count": 5,
     "metadata": {},
     "output_type": "execute_result"
    }
   ],
   "source": [
    "df.head()"
   ]
  },
  {
   "cell_type": "code",
   "execution_count": 36,
   "id": "bd505247-9dec-4ebe-a7b5-9497b26ee30d",
   "metadata": {},
   "outputs": [
    {
     "name": "stdout",
     "output_type": "stream",
     "text": [
      "<class 'pandas.core.frame.DataFrame'>\n",
      "RangeIndex: 2018 entries, 0 to 2017\n",
      "Data columns (total 7 columns):\n",
      " #   Column          Non-Null Count  Dtype         \n",
      "---  ------          --------------  -----         \n",
      " 0   month           2018 non-null   object        \n",
      " 1   division        2016 non-null   object        \n",
      " 2   line            2016 non-null   object        \n",
      " 3   day_type        2018 non-null   int64         \n",
      " 4   category        2018 non-null   object        \n",
      " 5   count           2018 non-null   int64         \n",
      " 6   datetime_month  2018 non-null   datetime64[ns]\n",
      "dtypes: datetime64[ns](1), int64(2), object(4)\n",
      "memory usage: 110.5+ KB\n"
     ]
    }
   ],
   "source": [
    "df.info()"
   ]
  },
  {
   "cell_type": "code",
   "execution_count": 7,
   "id": "0f3d04a1-7325-46ef-ba30-e1c30a2ac55f",
   "metadata": {},
   "outputs": [
    {
     "data": {
      "text/html": [
       "<div>\n",
       "<style scoped>\n",
       "    .dataframe tbody tr th:only-of-type {\n",
       "        vertical-align: middle;\n",
       "    }\n",
       "\n",
       "    .dataframe tbody tr th {\n",
       "        vertical-align: top;\n",
       "    }\n",
       "\n",
       "    .dataframe thead th {\n",
       "        text-align: right;\n",
       "    }\n",
       "</style>\n",
       "<table border=\"1\" class=\"dataframe\">\n",
       "  <thead>\n",
       "    <tr style=\"text-align: right;\">\n",
       "      <th></th>\n",
       "      <th>day_type</th>\n",
       "      <th>count</th>\n",
       "    </tr>\n",
       "  </thead>\n",
       "  <tbody>\n",
       "    <tr>\n",
       "      <th>count</th>\n",
       "      <td>2018.000000</td>\n",
       "      <td>2018.000000</td>\n",
       "    </tr>\n",
       "    <tr>\n",
       "      <th>mean</th>\n",
       "      <td>1.134787</td>\n",
       "      <td>1.315659</td>\n",
       "    </tr>\n",
       "    <tr>\n",
       "      <th>std</th>\n",
       "      <td>0.341580</td>\n",
       "      <td>0.663491</td>\n",
       "    </tr>\n",
       "    <tr>\n",
       "      <th>min</th>\n",
       "      <td>1.000000</td>\n",
       "      <td>1.000000</td>\n",
       "    </tr>\n",
       "    <tr>\n",
       "      <th>25%</th>\n",
       "      <td>1.000000</td>\n",
       "      <td>1.000000</td>\n",
       "    </tr>\n",
       "    <tr>\n",
       "      <th>50%</th>\n",
       "      <td>1.000000</td>\n",
       "      <td>1.000000</td>\n",
       "    </tr>\n",
       "    <tr>\n",
       "      <th>75%</th>\n",
       "      <td>1.000000</td>\n",
       "      <td>1.000000</td>\n",
       "    </tr>\n",
       "    <tr>\n",
       "      <th>max</th>\n",
       "      <td>2.000000</td>\n",
       "      <td>7.000000</td>\n",
       "    </tr>\n",
       "  </tbody>\n",
       "</table>\n",
       "</div>"
      ],
      "text/plain": [
       "          day_type        count\n",
       "count  2018.000000  2018.000000\n",
       "mean      1.134787     1.315659\n",
       "std       0.341580     0.663491\n",
       "min       1.000000     1.000000\n",
       "25%       1.000000     1.000000\n",
       "50%       1.000000     1.000000\n",
       "75%       1.000000     1.000000\n",
       "max       2.000000     7.000000"
      ]
     },
     "execution_count": 7,
     "metadata": {},
     "output_type": "execute_result"
    }
   ],
   "source": [
    "df.describe()"
   ]
  },
  {
   "cell_type": "markdown",
   "id": "5d061f5a-e8f6-4af4-9b3e-c7c24e1056de",
   "metadata": {},
   "source": [
    "# Checking for missing values"
   ]
  },
  {
   "cell_type": "code",
   "execution_count": 9,
   "id": "901b1102-d6ba-4400-9b6c-3bb3a30ea2ca",
   "metadata": {},
   "outputs": [
    {
     "data": {
      "text/plain": [
       "month\n",
       "9/1/2024     54\n",
       "12/1/2024    52\n",
       "1/1/2024     49\n",
       "8/1/2024     48\n",
       "3/1/2024     48\n",
       "7/1/2024     46\n",
       "3/1/2022     44\n",
       "4/1/2024     44\n",
       "11/1/2024    44\n",
       "2/1/2024     43\n",
       "6/1/2024     42\n",
       "6/1/2021     41\n",
       "5/1/2023     41\n",
       "7/1/2023     40\n",
       "10/1/2022    40\n",
       "11/1/2022    40\n",
       "12/1/2022    40\n",
       "2/1/2021     40\n",
       "3/1/2023     38\n",
       "7/1/2021     38\n",
       "12/1/2023    38\n",
       "5/1/2024     38\n",
       "5/1/2021     37\n",
       "9/1/2022     37\n",
       "2/1/2022     37\n",
       "10/1/2024    37\n",
       "5/1/2022     37\n",
       "10/1/2023    36\n",
       "7/1/2020     35\n",
       "4/1/2022     34\n",
       "12/1/2020    34\n",
       "1/1/2022     34\n",
       "6/1/2022     34\n",
       "9/1/2023     34\n",
       "6/1/2023     33\n",
       "4/1/2023     32\n",
       "12/1/2021    32\n",
       "11/1/2021    32\n",
       "1/1/2020     31\n",
       "7/1/2022     30\n",
       "1/1/2023     30\n",
       "8/1/2023     29\n",
       "2/1/2020     29\n",
       "8/1/2022     28\n",
       "9/1/2021     27\n",
       "1/1/2021     26\n",
       "11/1/2023    26\n",
       "10/1/2021    25\n",
       "3/1/2021     25\n",
       "8/1/2020     24\n",
       "8/1/2021     23\n",
       "2/1/2023     23\n",
       "4/1/2021     23\n",
       "9/1/2020     21\n",
       "11/1/2020    21\n",
       "3/1/2020     19\n",
       "10/1/2020    19\n",
       "6/1/2020     17\n",
       "4/1/2020     14\n",
       "5/1/2020      5\n",
       "Name: count, dtype: int64"
      ]
     },
     "execution_count": 9,
     "metadata": {},
     "output_type": "execute_result"
    }
   ],
   "source": [
    "df.month.value_counts()"
   ]
  },
  {
   "cell_type": "code",
   "execution_count": 10,
   "id": "20cec85e-447b-4e97-9bf1-4f6b559cb64b",
   "metadata": {},
   "outputs": [
    {
     "data": {
      "text/plain": [
       "division\n",
       "B DIVISION    1132\n",
       "A DIVISION     884\n",
       "Name: count, dtype: int64"
      ]
     },
     "execution_count": 10,
     "metadata": {},
     "output_type": "execute_result"
    }
   ],
   "source": [
    "df.division.value_counts()"
   ]
  },
  {
   "cell_type": "code",
   "execution_count": 11,
   "id": "f02e9cd6-c6c4-4acf-bdbb-2307dc3effcb",
   "metadata": {},
   "outputs": [
    {
     "data": {
      "text/plain": [
       "line\n",
       "6         151\n",
       "N         148\n",
       "2         145\n",
       "7         137\n",
       "F         136\n",
       "4         132\n",
       "E         130\n",
       "5         104\n",
       "R         103\n",
       "3         102\n",
       "A         102\n",
       "1         101\n",
       "D          95\n",
       "L          95\n",
       "Q          75\n",
       "B          67\n",
       "C          65\n",
       "M          58\n",
       "JZ         33\n",
       "G          19\n",
       "S 42nd     12\n",
       "S Fkln      4\n",
       "S Rock      2\n",
       "Name: count, dtype: int64"
      ]
     },
     "execution_count": 11,
     "metadata": {},
     "output_type": "execute_result"
    }
   ],
   "source": [
    "df.line.value_counts()"
   ]
  },
  {
   "cell_type": "code",
   "execution_count": 12,
   "id": "3588b2c8-0b8e-46dd-a72d-faacb132236d",
   "metadata": {},
   "outputs": [
    {
     "data": {
      "text/plain": [
       "day_type\n",
       "1    1746\n",
       "2     272\n",
       "Name: count, dtype: int64"
      ]
     },
     "execution_count": 12,
     "metadata": {},
     "output_type": "execute_result"
    }
   ],
   "source": [
    "df.day_type.value_counts()"
   ]
  },
  {
   "cell_type": "code",
   "execution_count": 13,
   "id": "b2b8007f-2601-48f0-a1d7-58866486864a",
   "metadata": {},
   "outputs": [
    {
     "data": {
      "text/plain": [
       "category\n",
       "Persons on Trackbed/Police/Medical    593\n",
       "Signals                               534\n",
       "Track                                 318\n",
       "Subway Car                            213\n",
       "Other                                 191\n",
       "Stations and Structure                169\n",
       "Name: count, dtype: int64"
      ]
     },
     "execution_count": 13,
     "metadata": {},
     "output_type": "execute_result"
    }
   ],
   "source": [
    "df.category.value_counts()"
   ]
  },
  {
   "cell_type": "code",
   "execution_count": 14,
   "id": "7116f644-9f1f-4bbf-8100-93a58dd2abbb",
   "metadata": {},
   "outputs": [
    {
     "data": {
      "text/plain": [
       "count\n",
       "1    1547\n",
       "2     347\n",
       "3      96\n",
       "4      17\n",
       "5       9\n",
       "7       1\n",
       "6       1\n",
       "Name: count, dtype: int64"
      ]
     },
     "execution_count": 14,
     "metadata": {},
     "output_type": "execute_result"
    }
   ],
   "source": [
    "df['count'].value_counts()"
   ]
  },
  {
   "cell_type": "markdown",
   "id": "63d55d79-ab4e-480c-a5ee-8742f506f6ae",
   "metadata": {},
   "source": [
    "### Creating New Column with month as datetime "
   ]
  },
  {
   "cell_type": "code",
   "execution_count": 29,
   "id": "c45d6225-38c6-4e7f-8e13-2ed119bd6bd3",
   "metadata": {},
   "outputs": [],
   "source": [
    "df['datetime_month'] = pd.to_datetime(\n",
    "    df['month'])"
   ]
  },
  {
   "cell_type": "code",
   "execution_count": 31,
   "id": "9e054e59-c31d-40cb-9c37-ef8abb07eea2",
   "metadata": {},
   "outputs": [
    {
     "data": {
      "text/html": [
       "<div>\n",
       "<style scoped>\n",
       "    .dataframe tbody tr th:only-of-type {\n",
       "        vertical-align: middle;\n",
       "    }\n",
       "\n",
       "    .dataframe tbody tr th {\n",
       "        vertical-align: top;\n",
       "    }\n",
       "\n",
       "    .dataframe thead th {\n",
       "        text-align: right;\n",
       "    }\n",
       "</style>\n",
       "<table border=\"1\" class=\"dataframe\">\n",
       "  <thead>\n",
       "    <tr style=\"text-align: right;\">\n",
       "      <th></th>\n",
       "      <th>month</th>\n",
       "      <th>division</th>\n",
       "      <th>line</th>\n",
       "      <th>day_type</th>\n",
       "      <th>category</th>\n",
       "      <th>count</th>\n",
       "      <th>datetime_month</th>\n",
       "    </tr>\n",
       "  </thead>\n",
       "  <tbody>\n",
       "    <tr>\n",
       "      <th>0</th>\n",
       "      <td>12/1/2024</td>\n",
       "      <td>A DIVISION</td>\n",
       "      <td>1</td>\n",
       "      <td>1</td>\n",
       "      <td>Other</td>\n",
       "      <td>1</td>\n",
       "      <td>2024-12-01</td>\n",
       "    </tr>\n",
       "    <tr>\n",
       "      <th>1</th>\n",
       "      <td>12/1/2024</td>\n",
       "      <td>A DIVISION</td>\n",
       "      <td>1</td>\n",
       "      <td>1</td>\n",
       "      <td>Persons on Trackbed/Police/Medical</td>\n",
       "      <td>1</td>\n",
       "      <td>2024-12-01</td>\n",
       "    </tr>\n",
       "    <tr>\n",
       "      <th>2</th>\n",
       "      <td>12/1/2024</td>\n",
       "      <td>A DIVISION</td>\n",
       "      <td>1</td>\n",
       "      <td>1</td>\n",
       "      <td>Signals</td>\n",
       "      <td>2</td>\n",
       "      <td>2024-12-01</td>\n",
       "    </tr>\n",
       "    <tr>\n",
       "      <th>3</th>\n",
       "      <td>12/1/2024</td>\n",
       "      <td>A DIVISION</td>\n",
       "      <td>2</td>\n",
       "      <td>1</td>\n",
       "      <td>Subway Car</td>\n",
       "      <td>1</td>\n",
       "      <td>2024-12-01</td>\n",
       "    </tr>\n",
       "    <tr>\n",
       "      <th>4</th>\n",
       "      <td>12/1/2024</td>\n",
       "      <td>A DIVISION</td>\n",
       "      <td>2</td>\n",
       "      <td>1</td>\n",
       "      <td>Signals</td>\n",
       "      <td>3</td>\n",
       "      <td>2024-12-01</td>\n",
       "    </tr>\n",
       "  </tbody>\n",
       "</table>\n",
       "</div>"
      ],
      "text/plain": [
       "       month    division line  day_type                            category  \\\n",
       "0  12/1/2024  A DIVISION    1         1                               Other   \n",
       "1  12/1/2024  A DIVISION    1         1  Persons on Trackbed/Police/Medical   \n",
       "2  12/1/2024  A DIVISION    1         1                             Signals   \n",
       "3  12/1/2024  A DIVISION    2         1                          Subway Car   \n",
       "4  12/1/2024  A DIVISION    2         1                             Signals   \n",
       "\n",
       "   count datetime_month  \n",
       "0      1     2024-12-01  \n",
       "1      1     2024-12-01  \n",
       "2      2     2024-12-01  \n",
       "3      1     2024-12-01  \n",
       "4      3     2024-12-01  "
      ]
     },
     "execution_count": 31,
     "metadata": {},
     "output_type": "execute_result"
    }
   ],
   "source": [
    "df.head()"
   ]
  },
  {
   "cell_type": "code",
   "execution_count": 33,
   "id": "26594986-a198-47ad-919c-ba82739fd5b6",
   "metadata": {},
   "outputs": [],
   "source": [
    "#exporting new dataset\n",
    "df.to_pickle(r'C:\\Users\\Stugots\\Desktop\\Bootcamp Stuff\\Achievement 6 Solo Project\\Data\\Prepared Data\\major incidents.pkl')"
   ]
  },
  {
   "cell_type": "code",
   "execution_count": null,
   "id": "0d2734c4-bd30-49a0-a3a0-7aeb6870f3de",
   "metadata": {},
   "outputs": [],
   "source": []
  }
 ],
 "metadata": {
  "kernelspec": {
   "display_name": "Python [conda env:base] *",
   "language": "python",
   "name": "conda-base-py"
  },
  "language_info": {
   "codemirror_mode": {
    "name": "ipython",
    "version": 3
   },
   "file_extension": ".py",
   "mimetype": "text/x-python",
   "name": "python",
   "nbconvert_exporter": "python",
   "pygments_lexer": "ipython3",
   "version": "3.12.7"
  }
 },
 "nbformat": 4,
 "nbformat_minor": 5
}
